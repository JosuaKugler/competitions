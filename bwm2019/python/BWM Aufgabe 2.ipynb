{
 "cells": [
  {
   "cell_type": "markdown",
   "metadata": {},
   "source": [
    "# BWM Aufgabe 2\n",
    "minimize $\\dfrac{ab}{c}+\\dfrac{bc}{a}+\\dfrac{ac}{b}$\n",
    "\n",
    "### SOLUTION:\n",
    "$a = b = c = \\dfrac{\\sqrt{3}}{3}$"
   ]
  },
  {
   "cell_type": "code",
   "execution_count": 26,
   "metadata": {},
   "outputs": [
    {
     "name": "stdout",
     "output_type": "stream",
     "text": [
      "\n"
     ]
    }
   ],
   "source": [
    "from sympy import *\n",
    "init_session(quiet = True)\n",
    "a, b, c, d, e = symbols('a b c d e')\n",
    "expression = a*b/c+b*c/a+a*c/b\n",
    "newexpression = expression.subs(c, sqrt(1-a**2-b**2))\n",
    "diffa = diff(newexpression, a)\n",
    "diffb = diff(newexpression, b)"
   ]
  },
  {
   "cell_type": "markdown",
   "metadata": {},
   "source": [
    "Wir haben nun den Gradient unseres Ausdrucks berechnet. An Stellen, wo sowohl diffa als auch diffb 0 sind, könnte sich ein Maximum befinden. Also ermitteln wir alle Möglichkeiten für a(b), sodass $f_a(a(b), b) = 0$. Dann substituieren wir der Reihe nach in $f_b(a,b)$ a mit einem unserer $a(b)$ und ermitteln die Nullstellen."
   ]
  },
  {
   "cell_type": "code",
   "execution_count": 91,
   "metadata": {},
   "outputs": [
    {
     "data": {
      "image/png": "[encoded data removed]",
      "text/latex": [
       "$$\\left [ \\sqrt{- \\frac{b^{2}}{2} + \\frac{1}{2}}, \\quad \\sqrt{- \\frac{\\sqrt{\\left(b - 1\\right) \\left(b + 1\\right) \\left(5 b^{2} - 1\\right)}}{2} - \\frac{\\left(b - 1\\right) \\left(b + 1\\right)}{2}}, \\quad \\sqrt{\\frac{\\sqrt{\\left(b - 1\\right) \\left(b + 1\\right) \\left(5 b^{2} - 1\\right)}}{2} - \\frac{\\left(b - 1\\right) \\left(b + 1\\right)}{2}}\\right ]$$"
      ],
      "text/plain": [
       "⎡                       _____________________________________________________ \n",
       "⎢     __________       ╱      ____________________________                    \n",
       "⎢    ╱    2           ╱      ╱                 ⎛   2    ⎞                     \n",
       "⎢   ╱    b    1      ╱     ╲╱  (b - 1)⋅(b + 1)⋅⎝5⋅b  - 1⎠    (b - 1)⋅(b + 1)  \n",
       "⎢  ╱   - ── + ─ ,   ╱    - ─────────────────────────────── - ─────────────── ,\n",
       "⎣╲╱      2    2   ╲╱                      2                         2         \n",
       "\n",
       "       ___________________________________________________⎤\n",
       "      ╱    ____________________________                   ⎥\n",
       "     ╱    ╱                 ⎛   2    ⎞                    ⎥\n",
       "    ╱   ╲╱  (b - 1)⋅(b + 1)⋅⎝5⋅b  - 1⎠    (b - 1)⋅(b + 1) ⎥\n",
       "   ╱    ─────────────────────────────── - ─────────────── ⎥\n",
       " ╲╱                    2                         2        ⎦"
      ]
     },
     "execution_count": 91,
     "metadata": {},
     "output_type": "execute_result"
    }
   ],
   "source": [
    "asolutions = solve(diffa, a)\n",
    "asolutions = [asolutions[1],asolutions[3],asolutions[5]] #all positive solutions\n",
    "solutions = []\n",
    "for solution in asolutions:\n",
    "    temp = diffb.subs(a, solution)#f_b(a,b) mit a = a(b)\n",
    "    if simplify(temp) != 0:\n",
    "        bsolutions = solve(temp,b)\n",
    "        for bsolution in bsolutions:\n",
    "            if bsolution > 0:\n",
    "                asolution = solution.subs(b, bsolution)\n",
    "                if asolution > 0:\n",
    "                    solutions.append((asolution, bsolution))\n",
    "    else:#temp ist in jedem fall 0, egal was b ist\n",
    "        solutions.append(\"alle loesungen moeglich\")\n",
    "asolutions"
   ]
  },
  {
   "cell_type": "markdown",
   "metadata": {},
   "source": [
    "Wir kennen nun alle Möglichkeiten, wie $a(b)$ sein kann, damit $f_a(a(b), b)= 0$.\n",
    "Nun überprüfen wir, wie viele Nullstellen es für $0<b<1$ gibt.\n",
    "Damit asolutions[1] nicht komplex wird, muss $b<\\frac{1}{\\sqrt{5}}$ sein.\n",
    "Für alle solchen Werte"
   ]
  },
  {
   "cell_type": "code",
   "execution_count": 92,
   "metadata": {},
   "outputs": [
    {
     "name": "stdout",
     "output_type": "stream",
     "text": [
      "sqrt(-b**2/2 + 1/2)\n",
      "sqrt(-sqrt((b - 1)*(b + 1)*(5*b**2 - 1))/2 - (b - 1)*(b + 1)/2)\n",
      "sqrt(sqrt((b - 1)*(b + 1)*(5*b**2 - 1))/2 - (b - 1)*(b + 1)/2)\n"
     ]
    }
   ],
   "source": [
    "for i in asolutions:\n",
    "    print(i)"
   ]
  },
  {
   "cell_type": "markdown",
   "metadata": {},
   "source": [
    "Nun kennen wir alle Werte für $a$ und $b$, an denen $f_a = f_b = 0$ und $0 < a, b < 1$ gilt.\n",
    "Es bleibt nur noch zu zeigen, dass $f_{aa}*f_{bb}-f_{ab}^2>0$ und $f_{aa}> 0$."
   ]
  },
  {
   "cell_type": "code",
   "execution_count": 33,
   "metadata": {},
   "outputs": [
    {
     "data": {
      "image/png": "[encoded data removed]",
      "text/latex": [
       "$$\\left [ \\left ( \\frac{\\sqrt{3}}{3}, \\quad \\frac{\\sqrt{3}}{3}\\right )\\right ]$$"
      ],
      "text/plain": [
       "⎡⎛√3  √3⎞⎤\n",
       "⎢⎜──, ──⎟⎥\n",
       "⎣⎝3   3 ⎠⎦"
      ]
     },
     "execution_count": 33,
     "metadata": {},
     "output_type": "execute_result"
    }
   ],
   "source": [
    "minima = []\n",
    "diffaa = diff(diffa, a)\n",
    "diffba = diff(diffb, a)\n",
    "diffbb = diff(diffb, b)\n",
    "for solution in solutions:\n",
    "    valueaa = diffaa.subs(a, solution[0])\n",
    "    valueaa = valueaa.subs(b, solution[1])\n",
    "    valueba = diffba.subs(a, solution[0])\n",
    "    valueba = valueba.subs(b, solution[1])\n",
    "    valuebb = diffbb.subs(a, solution[0])\n",
    "    valuebb = valuebb.subs(b, solution[1])\n",
    "    discriminant = valueaa*valuebb-valueba**2\n",
    "    if discriminant > 0 and valueaa > 0:\n",
    "        minima.append(solution)\n",
    "minima"
   ]
  },
  {
   "cell_type": "code",
   "execution_count": 35,
   "metadata": {},
   "outputs": [
    {
     "data": {
      "image/png": "[encoded data removed]",
      "text/latex": [
       "$$\\frac{3 a^{6} b^{2} - a^{6} \\left(- a^{2} - b^{2} + 1\\right) + 2 a^{4} b^{2} \\left(- a^{2} - b^{2} + 1\\right) - 3 a^{4} \\left(- a^{2} - b^{2} + 1\\right)^{2} + a^{2} b^{2} \\left(- a^{2} - b^{2} + 1\\right)^{2} + 2 b^{2} \\left(- a^{2} - b^{2} + 1\\right)^{3}}{a^{3} b \\left(- a^{2} - b^{2} + 1\\right)^{\\frac{5}{2}}}$$"
      ],
      "text/plain": [
       "                                                                             2\n",
       "   6  2    6 ⎛   2    2    ⎞      4  2 ⎛   2    2    ⎞      4 ⎛   2    2    ⎞ \n",
       "3⋅a ⋅b  - a ⋅⎝- a  - b  + 1⎠ + 2⋅a ⋅b ⋅⎝- a  - b  + 1⎠ - 3⋅a ⋅⎝- a  - b  + 1⎠ \n",
       "──────────────────────────────────────────────────────────────────────────────\n",
       "                                                                        5/2   \n",
       "                                                     3   ⎛   2    2    ⎞      \n",
       "                                                    a ⋅b⋅⎝- a  - b  + 1⎠      \n",
       "\n",
       "                        2                       3\n",
       "    2  2 ⎛   2    2    ⎞       2 ⎛   2    2    ⎞ \n",
       " + a ⋅b ⋅⎝- a  - b  + 1⎠  + 2⋅b ⋅⎝- a  - b  + 1⎠ \n",
       "─────────────────────────────────────────────────\n",
       "                                                 \n",
       "                                                 \n",
       "                                                 "
      ]
     },
     "execution_count": 35,
     "metadata": {},
     "output_type": "execute_result"
    }
   ],
   "source": [
    "simplify(diffaa)"
   ]
  },
  {
   "cell_type": "code",
   "execution_count": 36,
   "metadata": {},
   "outputs": [
    {
     "data": {
      "image/png": "[encoded data removed]",
      "text/latex": [
       "$$\\frac{3 a^{2} b^{6} + 2 a^{2} b^{4} \\left(- a^{2} - b^{2} + 1\\right) + a^{2} b^{2} \\left(- a^{2} - b^{2} + 1\\right)^{2} + 2 a^{2} \\left(- a^{2} - b^{2} + 1\\right)^{3} - b^{6} \\left(- a^{2} - b^{2} + 1\\right) - 3 b^{4} \\left(- a^{2} - b^{2} + 1\\right)^{2}}{a b^{3} \\left(- a^{2} - b^{2} + 1\\right)^{\\frac{5}{2}}}$$"
      ],
      "text/plain": [
       "                                                         2                    \n",
       "   2  6      2  4 ⎛   2    2    ⎞    2  2 ⎛   2    2    ⎞       2 ⎛   2    2  \n",
       "3⋅a ⋅b  + 2⋅a ⋅b ⋅⎝- a  - b  + 1⎠ + a ⋅b ⋅⎝- a  - b  + 1⎠  + 2⋅a ⋅⎝- a  - b  +\n",
       "──────────────────────────────────────────────────────────────────────────────\n",
       "                                                                        5/2   \n",
       "                                                       3 ⎛   2    2    ⎞      \n",
       "                                                    a⋅b ⋅⎝- a  - b  + 1⎠      \n",
       "\n",
       "   3                                            2\n",
       "  ⎞     6 ⎛   2    2    ⎞      4 ⎛   2    2    ⎞ \n",
       " 1⎠  - b ⋅⎝- a  - b  + 1⎠ - 3⋅b ⋅⎝- a  - b  + 1⎠ \n",
       "─────────────────────────────────────────────────\n",
       "                                                 \n",
       "                                                 \n",
       "                                                 "
      ]
     },
     "execution_count": 36,
     "metadata": {},
     "output_type": "execute_result"
    }
   ],
   "source": [
    "simplify(diffbb)"
   ]
  },
  {
   "cell_type": "code",
   "execution_count": 38,
   "metadata": {},
   "outputs": [
    {
     "data": {
      "image/png": "[encoded data removed]",
      "text/latex": [
       "$$\\frac{3 a^{4} b^{4} + a^{4} \\left(- a^{2} - b^{2} + 1\\right)^{2} - a^{2} b^{2} \\left(- a^{2} - b^{2} + 1\\right)^{2} - a^{2} \\left(- a^{2} - b^{2} + 1\\right)^{3} + b^{4} \\left(- a^{2} - b^{2} + 1\\right)^{2} - b^{2} \\left(- a^{2} - b^{2} + 1\\right)^{3}}{a^{2} b^{2} \\left(- a^{2} - b^{2} + 1\\right)^{\\frac{5}{2}}}$$"
      ],
      "text/plain": [
       "                            2                        2                     3  \n",
       "   4  4    4 ⎛   2    2    ⎞     2  2 ⎛   2    2    ⎞     2 ⎛   2    2    ⎞   \n",
       "3⋅a ⋅b  + a ⋅⎝- a  - b  + 1⎠  - a ⋅b ⋅⎝- a  - b  + 1⎠  - a ⋅⎝- a  - b  + 1⎠  +\n",
       "──────────────────────────────────────────────────────────────────────────────\n",
       "                                                                     5/2      \n",
       "                                                 2  2 ⎛   2    2    ⎞         \n",
       "                                                a ⋅b ⋅⎝- a  - b  + 1⎠         \n",
       "\n",
       "                   2                     3\n",
       "  4 ⎛   2    2    ⎞     2 ⎛   2    2    ⎞ \n",
       " b ⋅⎝- a  - b  + 1⎠  - b ⋅⎝- a  - b  + 1⎠ \n",
       "──────────────────────────────────────────\n",
       "                                          \n",
       "                                          \n",
       "                                          "
      ]
     },
     "execution_count": 38,
     "metadata": {},
     "output_type": "execute_result"
    }
   ],
   "source": [
    "simplify(diffba)"
   ]
  },
  {
   "cell_type": "markdown",
   "metadata": {},
   "source": [
    "Compute Hessian Matrix $\\to$ not convex"
   ]
  },
  {
   "cell_type": "code",
   "execution_count": 60,
   "metadata": {},
   "outputs": [],
   "source": [
    "hessian = Matrix(2,2,[diffaa, diffba, diffba, diffbb])\n",
    "polynomial = (factor(simplify(expand(simplify(hessian.det()))))*(a**4*b**4*(a**2+b**2-1)**4)).subs(a**2, x).subs(b**2, y)"
   ]
  },
  {
   "cell_type": "code",
   "execution_count": null,
   "metadata": {},
   "outputs": [],
   "source": [
    "polynom = collect(simplify(expand(diffa * a**2 *b*sqrt(-a**2-b**2+1)*(a**2+b**2-1))),a)\n",
    "x, y = symbols('x y')\n",
    "polynom = polynom.subs(a**2, x)\n",
    "polynom = polynom.subs(b**2, y)\n",
    "factor(polynom)"
   ]
  },
  {
   "cell_type": "code",
   "execution_count": 114,
   "metadata": {},
   "outputs": [
    {
     "data": {
      "image/png": "[encoded data removed]",
      "text/latex": [
       "$$a b + a + \\frac{a \\left(a + b - 1\\right)^{2}}{b} + b - 1 + \\frac{b \\left(a + b - 1\\right)^{2}}{a}$$"
      ],
      "text/plain": [
       "                       2                        2\n",
       "          a⋅(a + b - 1)            b⋅(a + b - 1) \n",
       "a⋅b + a + ────────────── + b - 1 + ──────────────\n",
       "                b                        a       "
      ]
     },
     "execution_count": 114,
     "metadata": {},
     "output_type": "execute_result"
    }
   ],
   "source": [
    "S = (a*b)**2+(b*c)**2+(a*c)**2-a*b*c\n",
    "S = S.subs(c, 1-a-b)\n",
    "solutions = solve(S,a)\n",
    "simplify(S/(a*b))"
   ]
  },
  {
   "cell_type": "code",
   "execution_count": 115,
   "metadata": {},
   "outputs": [
    {
     "data": {
      "image/png": "[encoded data removed]",
      "text/latex": [
       "$$a^{2} + 2 a b + 2 a c + b^{2} + 2 b c + c^{2}$$"
      ],
      "text/plain": [
       " 2                    2            2\n",
       "a  + 2⋅a⋅b + 2⋅a⋅c + b  + 2⋅b⋅c + c "
      ]
     },
     "execution_count": 115,
     "metadata": {},
     "output_type": "execute_result"
    }
   ],
   "source": [
    "expand((a+b+c)**2)"
   ]
  },
  {
   "cell_type": "code",
   "execution_count": 118,
   "metadata": {},
   "outputs": [
    {
     "data": {
      "image/png": "[encoded data removed]",
      "text/latex": [
       "$$\\frac{a b c}{a^{2} b^{2} + a^{2} c^{2} + b^{2} c^{2}}$$"
      ],
      "text/plain": [
       "        a⋅b⋅c        \n",
       "─────────────────────\n",
       " 2  2    2  2    2  2\n",
       "a ⋅b  + a ⋅c  + b ⋅c "
      ]
     },
     "execution_count": 118,
     "metadata": {},
     "output_type": "execute_result"
    }
   ],
   "source": [
    "simplify(1/expression)"
   ]
  }
 ],
 "metadata": {
  "kernelspec": {
   "display_name": "Python 3",
   "language": "python",
   "name": "python3"
  },
  "language_info": {
   "codemirror_mode": {
    "name": "ipython",
    "version": 3
   },
   "file_extension": ".py",
   "mimetype": "text/x-python",
   "name": "python",
   "nbconvert_exporter": "python",
   "pygments_lexer": "ipython3",
   "version": "3.7.3"
  }
 },
 "nbformat": 4,
 "nbformat_minor": 2
}
