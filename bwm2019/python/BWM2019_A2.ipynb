{
 "cells": [
  {
   "cell_type": "code",
   "execution_count": 28,
   "metadata": {},
   "outputs": [
    {
     "name": "stdout",
     "output_type": "stream",
     "text": [
      "\n",
      "\\frac{a b}{c} + \\frac{a c}{b} + \\frac{b c}{a}\n"
     ]
    },
    {
     "data": {
      "image/png": "[encoded data removed]",
      "text/latex": [
       "$$\\frac{a^{4} b^{4} + 2 a^{4} b^{2} c^{2} + a^{4} c^{4} + 2 a^{2} b^{4} c^{2} + 2 a^{2} b^{2} c^{4} + b^{4} c^{4}}{a^{2} b^{2} c^{2}}$$"
      ],
      "text/plain": [
       " 4  4      4  2  2    4  4      2  4  2      2  2  4    4  4\n",
       "a ⋅b  + 2⋅a ⋅b ⋅c  + a ⋅c  + 2⋅a ⋅b ⋅c  + 2⋅a ⋅b ⋅c  + b ⋅c \n",
       "────────────────────────────────────────────────────────────\n",
       "                           2  2  2                          \n",
       "                          a ⋅b ⋅c                           "
      ]
     },
     "execution_count": 28,
     "metadata": {},
     "output_type": "execute_result"
    }
   ],
   "source": [
    "from sympy.simplify.ratsimp import ratsimp\n",
    "from sympy.polys.rationaltools import together\n",
    "from sympy import symbols, expand\n",
    "import sympy\n",
    "sympy.init_session(quiet = True)\n",
    "a, b, c = symbols('a b c')\n",
    "expression = a*b/c+b*c/a+a*c/b\n",
    "print(latex(expression))\n",
    "expression = ratsimp(expression)\n",
    "together(expand(expression**2))\n",
    "#sqexpression = expression**2"
   ]
  }
 ],
 "metadata": {
  "kernelspec": {
   "display_name": "Python 3",
   "language": "python",
   "name": "python3"
  },
  "language_info": {
   "codemirror_mode": {
    "name": "ipython",
    "version": 3
   },
   "file_extension": ".py",
   "mimetype": "text/x-python",
   "name": "python",
   "nbconvert_exporter": "python",
   "pygments_lexer": "ipython3",
   "version": "3.7.3"
  }
 },
 "nbformat": 4,
 "nbformat_minor": 2
}
